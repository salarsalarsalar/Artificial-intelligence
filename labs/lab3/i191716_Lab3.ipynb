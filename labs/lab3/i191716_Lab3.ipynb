{
 "cells": [
  {
   "cell_type": "markdown",
   "metadata": {},
   "source": [
    "# Task1"
   ]
  },
  {
   "cell_type": "code",
   "execution_count": 130,
   "metadata": {},
   "outputs": [],
   "source": [
    "class GraphADT():\n",
    "    def __init__(self):\n",
    "        self.adj_list = {}\n",
    "        self.mylist = []\n",
    "    def Create_Vertex(self,node):\n",
    "        if node not in self.mylist:\n",
    "            self.mylist.append(node)\n",
    "        else:\n",
    "            print(\"Node \",node,\" already exists!\")\n",
    "    def insertEdge(self,node1, node2):\n",
    "        if node1 in self.mylist and node2 in self.mylist:\n",
    "            if node1 in self.adj_list.keys():\n",
    "                self.adj_list[node1].append(node2)\n",
    "            elif node1 not in self.adj_list.keys():\n",
    "                temp = []\n",
    "                temp.append(node2)\n",
    "                self.adj_list[node1] = temp\n",
    "                \n",
    "            if node2 in self.adj_list.keys():\n",
    "                self.adj_list[node2].append(node1)\n",
    "            elif node2 not in self.adj_list.keys():\n",
    "                temp = []\n",
    "                temp.append(node1)\n",
    "                self.adj_list[node2] = temp\n",
    "\n",
    "        else:\n",
    "            print(\"Nodes don't exist!\")\n",
    "\n",
    "    def showGraphStructure(self):\n",
    "        if self.adj_list:\n",
    "            for node in self.adj_list:\n",
    "                print(node, \" ---> \", [i for i in self.adj_list[node]])\n",
    "        else:\n",
    "            print(\"Empty graph\")\n",
    "    def BFS(self,startVertex):\n",
    "        visited = []\n",
    "        queue = [] \n",
    "        visited.append(startVertex)\n",
    "        queue.append(startVertex)\n",
    "\n",
    "        while queue:\n",
    "            s = queue.pop(-1) \n",
    "            print (s, end = \" \")\n",
    "            for neighbour in self.adj_list[s]:\n",
    "                if neighbour not in visited:\n",
    "                    visited.append(neighbour)\n",
    "                    queue.append(neighbour)\n",
    "    def DFSUtil(self, v, visited):\n",
    "        visited.add(v)\n",
    "        print(v, end=' ')\n",
    "        for neighbour in self.adj_list[v]:\n",
    "            if neighbour not in visited:\n",
    "                self.DFSUtil(neighbour, visited)\n",
    " \n",
    "    def DFS(self,vertex):\n",
    "        visited = set()\n",
    "        for x in self.adj_list:\n",
    "            self.adj_list[x].sort()\n",
    "        self.DFSUtil(vertex, visited)\n",
    "    def is_clique(self,lis):\n",
    "        for i in lis:\n",
    "            other=lis.copy()\n",
    "            other.remove(i)\n",
    "            for j in other:\n",
    "                if j not in self.adj_list[i]:\n",
    "                    return False\n",
    "        return True\n",
    "    def isPrime(self,n):\n",
    "        if (n <= 1) :\n",
    "            return False\n",
    "        if (n <= 3) :\n",
    "            return True\n",
    "        if (n % 2 == 0 or n % 3 == 0) :\n",
    "            return False\n",
    "        i = 5\n",
    "        while(i * i <= n) :\n",
    "            if (n % i == 0 or n % (i + 2) == 0) :\n",
    "                return False\n",
    "            i = i + 6\n",
    "        return True\n",
    "    def addedgeifprime(self):\n",
    "        for node1 in self.mylist:\n",
    "            other=self.mylist.copy()\n",
    "            other.remove(node1)\n",
    "            for node2 in other:\n",
    "                if self.isPrime(node1+node2):\n",
    "                    if node1 in self.adj_list.keys():\n",
    "                        self.adj_list[node1].append(node2)\n",
    "                    elif node1 not in self.adj_list.keys():\n",
    "                        temp = []\n",
    "                        temp.append(node2)\n",
    "                        self.adj_list[node1] = temp"
   ]
  },
  {
   "cell_type": "code",
   "execution_count": 131,
   "metadata": {},
   "outputs": [
    {
     "name": "stdout",
     "output_type": "stream",
     "text": [
      "1  --->  [2, 5]\n",
      "2  --->  [1, 5, 4, 3]\n",
      "5  --->  [1, 2, 4]\n",
      "4  --->  [2, 3, 5]\n",
      "3  --->  [2, 4]\n",
      "\n",
      "BFS\n",
      "1 5 4 3 2 \n",
      "DFS\n",
      "1 2 3 4 5 \n",
      "---------Clique--------\n"
     ]
    }
   ],
   "source": [
    "g=GraphADT()\n",
    "g.Create_Vertex(1)\n",
    "g.Create_Vertex(2)\n",
    "g.Create_Vertex(3)\n",
    "g.Create_Vertex(4)\n",
    "g.Create_Vertex(5)\n",
    "#Adding edges\n",
    "g.insertEdge(1,2)\n",
    "g.insertEdge(1,5)\n",
    "g.insertEdge(2,5)\n",
    "g.insertEdge(2,4)\n",
    "g.insertEdge(2,3)\n",
    "g.insertEdge(3,4)\n",
    "g.insertEdge(5,4)\n",
    "#Printing the graph\n",
    "g.showGraphStructure()\n",
    "print(\"\\nBFS\")\n",
    "g.BFS(1)\n",
    "\n",
    "print(\"\\nDFS\")\n",
    "g.DFS(1)\n",
    "#Task2\n",
    "print(\"\\n---------Clique--------\")"
   ]
  },
  {
   "cell_type": "markdown",
   "metadata": {},
   "source": [
    "# Task 2"
   ]
  },
  {
   "cell_type": "code",
   "execution_count": 132,
   "metadata": {},
   "outputs": [
    {
     "name": "stdout",
     "output_type": "stream",
     "text": [
      "Vertexes Makes a clique\n"
     ]
    }
   ],
   "source": [
    "if g.is_clique([1,2,5]):\n",
    "    print(\"Vertexes Makes a clique\")\n",
    "else:\n",
    "    print(\"Vertexes does not Make a clique\")\n"
   ]
  },
  {
   "cell_type": "markdown",
   "metadata": {},
   "source": [
    "# Task3"
   ]
  },
  {
   "cell_type": "code",
   "execution_count": 133,
   "metadata": {},
   "outputs": [],
   "source": [
    "g=GraphADT()\n",
    "g.Create_Vertex(1)\n",
    "g.Create_Vertex(2)\n",
    "g.Create_Vertex(3)\n",
    "g.Create_Vertex(4)\n",
    "g.Create_Vertex(5)\n",
    "g.Create_Vertex(6)\n",
    "g.Create_Vertex(7)\n",
    "g.addedgeifprime()\n"
   ]
  },
  {
   "cell_type": "code",
   "execution_count": 134,
   "metadata": {},
   "outputs": [
    {
     "name": "stdout",
     "output_type": "stream",
     "text": [
      "1  --->  [2, 4, 6]\n",
      "2  --->  [1, 3, 5]\n",
      "3  --->  [2, 4]\n",
      "4  --->  [1, 3, 7]\n",
      "5  --->  [2, 6]\n",
      "6  --->  [1, 5, 7]\n",
      "7  --->  [4, 6]\n"
     ]
    }
   ],
   "source": [
    "g.showGraphStructure()"
   ]
  },
  {
   "cell_type": "code",
   "execution_count": null,
   "metadata": {},
   "outputs": [],
   "source": []
  }
 ],
 "metadata": {
  "kernelspec": {
   "display_name": "Python 3",
   "language": "python",
   "name": "python3"
  },
  "language_info": {
   "codemirror_mode": {
    "name": "ipython",
    "version": 3
   },
   "file_extension": ".py",
   "mimetype": "text/x-python",
   "name": "python",
   "nbconvert_exporter": "python",
   "pygments_lexer": "ipython3",
   "version": "3.8.8"
  }
 },
 "nbformat": 4,
 "nbformat_minor": 4
}
