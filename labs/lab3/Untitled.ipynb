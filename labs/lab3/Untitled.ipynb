{
 "cells": [
  {
   "cell_type": "code",
   "execution_count": 1,
   "id": "fddb19ac-d4f2-4336-bdbe-7a0b85ad2a14",
   "metadata": {},
   "outputs": [],
   "source": [
    "import pandas as pd\n",
    "import numpy as np\n",
    "import matplotlib as plt"
   ]
  },
  {
   "cell_type": "code",
   "execution_count": 35,
   "id": "cdb00db7-594e-48c3-8429-fbb567e26caf",
   "metadata": {},
   "outputs": [],
   "source": [
    "class Graph:\n",
    "    def __init__(self, max):\n",
    "        self.max = max\n",
    "        self.G = {i: [] for i in range(1,self.max)}\n",
    "    def Creat_vertex(self,vertex):\n",
    "        if vertex not in self.G:\n",
    "            self.G.append\n",
    "        else:\n",
    "            print(vertex ,\"already exists\")\n",
    "    def insertEgde(self,source, dest):\n",
    "        if dest not in self.G[source]:\n",
    "            self.G[source].append(dest)\n",
    "            self.G[dest].append(source)\n",
    "        else:\n",
    "          print(\"Node does not exist\")\n",
    "    def show_dic(self):\n",
    "        if self.G:\n",
    "            for i in self.G:\n",
    "                print(i,\"---->\",[i for i in self.G[i]])\n",
    "        else:\n",
    "            print(\"Graph is empty\")\n",
    "    def BFS(self,BFS_start):\n",
    "        print(\"------BFS------------\")\n",
    "        for i,j in enumerate(self.G.items()):\n",
    "             if i in j:\n",
    "                    \n",
    "    def DFS(self,DFS_start):        \n",
    "        print(\"--------DFS----------\")\n"
   ]
  },
  {
   "cell_type": "code",
   "execution_count": 2,
   "id": "0f229c4c-e8fe-44e7-acb3-c569480a616c",
   "metadata": {},
   "outputs": [],
   "source": [
    "def dfs(graph, node, visited)\n",
    ":\n",
    "    if node not in visited:\n",
    "        visited.append(node)\n",
    "        for k in graph[node]:\n",
    "    return visited\n",
    " "
   ]
  },
  {
   "cell_type": "code",
   "execution_count": null,
   "id": "0e0ff322-48df-4b06-b151-92d4a2425e0c",
   "metadata": {},
   "outputs": [],
   "source": [
    "    def BFS(self,startVertex):\n",
    "        visited = []\n",
    "        queue = [] \n",
    "        visited.append(startVertex)\n",
    "        queue.append(startVertex)\n",
    "\n",
    "        while queue:\n",
    "            s = queue.pop(-1) \n",
    "            print (s, end = \" \")\n",
    "            for neighbour in self.adj_list[s]:\n",
    "                if neighbour not in visited:\n",
    "                    visited.append(neighbour)\n",
    "                    queue.append(neighbour)\n",
    "    def DFSUtil(self, v, visited):\n",
    "        visited.add(v)\n",
    "        print(v, end=' ')\n",
    "        for neighbour in self.adj_list[v]:\n",
    "            if neighbour not in visited:\n",
    "                self.DFSUtil(neighbour, visited)\n",
    " \n",
    "    def DFS(self,vertex):\n",
    "        visited = set()\n",
    "        for x in self.adj_list:\n",
    "            self.adj_list[x].sort()\n",
    "        self.DFSUtil(vertex, visited)\n",
    "    def is_clique(self,lis):\n",
    "        for i in lis:\n",
    "            other=lis.copy()\n",
    "            other.remove(i)\n",
    "            for j in other:\n",
    "                if j not in self.adj_list[i]:\n",
    "                    return False\n",
    "        return True"
   ]
  },
  {
   "cell_type": "code",
   "execution_count": 32,
   "id": "60680aa0-e3fb-4514-9a01-9a51b2d78258",
   "metadata": {},
   "outputs": [
    {
     "name": "stdout",
     "output_type": "stream",
     "text": [
      "1 ----> [2]\n",
      "2 ----> [1, 3]\n",
      "3 ----> [2]\n",
      "4 ----> [5]\n",
      "5 ----> [4, 6]\n",
      "6 ----> [5, 7, 8, 9]\n",
      "7 ----> [6]\n",
      "8 ----> [6]\n",
      "9 ----> [6]\n"
     ]
    }
   ],
   "source": [
    "A =Graph(10)\n",
    "A.insertEgde(1,2)\n",
    "A.insertEgde(2,3)\n",
    "A.insertEgde(4,5)\n",
    "A.insertEgde(5,6)\n",
    "A.insertEgde(6,7)\n",
    "A.insertEgde(6,8)\n",
    "A.insertEgde(6,9)\n",
    "\n",
    "A.show_dic()"
   ]
  },
  {
   "cell_type": "code",
   "execution_count": null,
   "id": "7a4c1757-0648-4b98-bdc1-ea902eaf2ff6",
   "metadata": {},
   "outputs": [],
   "source": []
  }
 ],
 "metadata": {
  "kernelspec": {
   "display_name": "Python 3",
   "language": "python",
   "name": "python3"
  },
  "language_info": {
   "codemirror_mode": {
    "name": "ipython",
    "version": 3
   },
   "file_extension": ".py",
   "mimetype": "text/x-python",
   "name": "python",
   "nbconvert_exporter": "python",
   "pygments_lexer": "ipython3",
   "version": "3.8.8"
  }
 },
 "nbformat": 4,
 "nbformat_minor": 5
}
