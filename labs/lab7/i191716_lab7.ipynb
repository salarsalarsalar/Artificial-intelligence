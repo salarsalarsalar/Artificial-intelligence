{
 "cells": [
  {
   "cell_type": "code",
   "execution_count": 65,
   "id": "ab12ed60-dd62-427d-aee8-b6cfe4fcc0f6",
   "metadata": {},
   "outputs": [],
   "source": [
    "import pandas as pd\n",
    "import numpy as np"
   ]
  },
  {
   "cell_type": "code",
   "execution_count": 2,
   "id": "85a99488-a1e4-48bd-ab28-81ceb4a7a29e",
   "metadata": {},
   "outputs": [],
   "source": [
    "import numpy.random as npr\n",
    "def selectOne(fit):\n",
    "    max = sum([c for c in fit])\n",
    "    selection_probs = [c/max for c in fit]\n",
    "    return fit.index(fit[npr.choice(len(fit), p=selection_probs)])"
   ]
  },
  {
   "cell_type": "code",
   "execution_count": 3,
   "id": "760d57cd-2a59-4fd6-8b49-3d5f1895afea",
   "metadata": {},
   "outputs": [],
   "source": [
    "from copy import deepcopy                        \n",
    "import random                                  \n",
    "from math import exp                            \n",
    "import numpy as np\n",
    "board_size =0\n",
    "def placeQueens(board):                          \n",
    "    i = 0\n",
    "    while (i < board_size):\n",
    "        row = random.randint(0, board_size - 1)\n",
    "        if (board[row][i] != \"Q\"):\n",
    "            board[row][i] = \"Q\"\n",
    "            i+=1\n",
    "def getQueens(board,board_size):                            # This will get the positions of queens placed in the maze\n",
    "    queen_positions = []                         \n",
    "    for i in range(board_size):\n",
    "        for j in range (board_size):\n",
    "            if board[i][j] == \"Q\":\n",
    "                temp = i,j\n",
    "                queen_positions.append(temp)\n",
    "    return queen_positions\n",
    "\n",
    "\n",
    "\n",
    "def printBoard(board):                          \n",
    "    for i in range(board_size):\n",
    "        for j in range(board_size):\n",
    "            print(board[i][j], end=' ')\n",
    "        print()\n",
    "\n",
    "def objective_function(board,board_size):\n",
    "    queens_pos = getQueens(board,board_size)\n",
    "    h_hit = 0\n",
    "    d_hit = 0\n",
    "    for i in range(0, len(queens_pos)):\n",
    "        for j in range(i, len(queens_pos)):\n",
    "            if i != j:\n",
    "                if queens_pos[i][0] == queens_pos[j][0]:\n",
    "                    h_hit += 1\n",
    "                if abs(queens_pos[i][0] - queens_pos[j][0]) == abs(queens_pos[i][1] - queens_pos[j][1]):\n",
    "                    d_hit += 1\n",
    "    return h_hit+d_hit"
   ]
  },
  {
   "cell_type": "code",
   "execution_count": 17,
   "id": "2be71651-6c02-4d18-93db-fb4e8060712a",
   "metadata": {},
   "outputs": [
    {
     "name": "stdin",
     "output_type": "stream",
     "text": [
      "Enter the board size: 8\n"
     ]
    },
    {
     "name": "stdout",
     "output_type": "stream",
     "text": [
      "iteration number= 1\n",
      "* * * Q * * * * \n",
      "* * * * * Q * Q \n",
      "* * * * * * * * \n",
      "Q * * * * * * * \n",
      "* * * * * * * * \n",
      "* Q * * Q * * * \n",
      "* * Q * * * * * \n",
      "* * * * * * Q * \n",
      "  \n",
      "iteration number= 2\n",
      "* * * * * * * Q \n",
      "* * * * * * Q * \n",
      "* Q * * Q * * * \n",
      "* * * * * * * * \n",
      "* * * * * * * * \n",
      "* * * * * * * * \n",
      "* * Q Q * * * * \n",
      "Q * * * * Q * * \n",
      "  \n",
      "iteration number= 3\n",
      "* * Q * * * * * \n",
      "* * * * * * * * \n",
      "* * * * * * * * \n",
      "* * * * Q Q Q * \n",
      "* * * Q * * * * \n",
      "* Q * * * * * Q \n",
      "* * * * * * * * \n",
      "Q * * * * * * * \n",
      "  \n",
      "iteration number= 4\n",
      "* * * * * * Q * \n",
      "* * * * * * * * \n",
      "* * * Q * * * * \n",
      "* * * * * * * Q \n",
      "* * * * Q * * * \n",
      "Q * * * * * * * \n",
      "* * * * * * * * \n",
      "* Q Q * * Q * * \n",
      "  \n",
      "iteration number= 5\n",
      "* * * Q * * * * \n",
      "* * * * * * * * \n",
      "* * Q * * * * * \n",
      "* * * * * * * * \n",
      "* * * * * * * Q \n",
      "Q Q * * Q * Q * \n",
      "* * * * * * * * \n",
      "* * * * * Q * * \n",
      "  \n",
      "iteration number= 6\n",
      "* * * * * * * * \n",
      "* * * * * Q * * \n",
      "* * * * * * * * \n",
      "Q * * * * * * Q \n",
      "* * * * * * * * \n",
      "* * Q * Q * Q * \n",
      "* Q * Q * * * * \n",
      "* * * * * * * * \n",
      "  \n",
      "iteration number= 7\n",
      "* * Q * * * * * \n",
      "* * * * * * Q * \n",
      "* * * * * * * Q \n",
      "* * * * Q * * * \n",
      "Q * * Q * Q * * \n",
      "* Q * * * * * * \n",
      "* * * * * * * * \n",
      "* * * * * * * * \n",
      "  \n",
      "iteration number= 8\n",
      "* * * Q * Q * * \n",
      "* * * * * * * * \n",
      "* * * * Q * * * \n",
      "Q * * * * * Q Q \n",
      "* * Q * * * * * \n",
      "* * * * * * * * \n",
      "* * * * * * * * \n",
      "* Q * * * * * * \n",
      "  \n",
      "iteration number= 9\n",
      "Q * * * * * * * \n",
      "* * * Q * * * * \n",
      "* * * * Q * * * \n",
      "* * * * * * Q * \n",
      "* * * * * Q * * \n",
      "* * * * * * * Q \n",
      "* Q * * * * * * \n",
      "* * Q * * * * * \n",
      "  \n",
      "iteration number= 10\n",
      "* * * * * * * * \n",
      "* * Q * Q * * Q \n",
      "* Q * * * Q * * \n",
      "Q * * * * * * * \n",
      "* * * * * * Q * \n",
      "* * * * * * * * \n",
      "* * * Q * * * * \n",
      "* * * * * * * * \n",
      "  \n"
     ]
    }
   ],
   "source": [
    "def hillClimbing(board):  \n",
    "    pass\n",
    "position = []\n",
    "def getQueen(board,board_size):                            # This will get the positions of queens placed in the maze\n",
    "    queen_positions = []                         \n",
    "    for i in range(board_size):\n",
    "        for j in range (board_size):\n",
    "            if board[j][i] == \"Q\":\n",
    "                temp = j\n",
    "                queen_positions.append(temp)\n",
    "    return queen_positions\n",
    "def bfunction(size):\n",
    "    global board_size\n",
    "    board_size = size\n",
    "    \n",
    "    rows , cols = (board_size,board_size)\n",
    "    board = []                                       \n",
    "\n",
    "    for i in range(rows):                         \n",
    "        col = []\n",
    "        for j in range(cols):                       \n",
    "            col.append(\"*\")\n",
    "        board.append(col)\n",
    "    \n",
    "    placeQueens(board)\n",
    "    for i in range(0,10):\n",
    "        printBoard(board)\n",
    "        position.append(getQueen(board, board_size))\n",
    "        print(\"  \")\n",
    "        x=objective_function(board,board_size)\n",
    "        return x\n",
    "board_size = int(input(\"Enter the board size:\"))\n",
    "arr = []\n",
    "\n",
    "for i in range(0,10):\n",
    "    print(\"iteration number=\", i+1)\n",
    "    arr.append(bfunction(board_size))"
   ]
  },
  {
   "cell_type": "code",
   "execution_count": 18,
   "id": "ae210247-5768-44e1-bda5-d7e75c8499dc",
   "metadata": {},
   "outputs": [
    {
     "data": {
      "text/plain": [
       "[7, 6, 10, 6, 8, 11, 10, 7, 7, 9]"
      ]
     },
     "execution_count": 18,
     "metadata": {},
     "output_type": "execute_result"
    }
   ],
   "source": [
    "arr"
   ]
  },
  {
   "cell_type": "code",
   "execution_count": 19,
   "id": "9a3887a7-c6be-45fc-85e4-e3e45cc45e4c",
   "metadata": {},
   "outputs": [
    {
     "data": {
      "text/plain": [
       "[[3, 5, 6, 0, 5, 1, 7, 1],\n",
       " [7, 2, 6, 6, 2, 7, 1, 0],\n",
       " [7, 5, 0, 4, 3, 3, 3, 5],\n",
       " [5, 7, 7, 2, 4, 7, 0, 3],\n",
       " [5, 5, 2, 0, 5, 7, 5, 4],\n",
       " [3, 6, 5, 6, 5, 1, 5, 3],\n",
       " [4, 5, 0, 4, 3, 4, 1, 2],\n",
       " [3, 7, 4, 0, 2, 0, 3, 3],\n",
       " [0, 6, 7, 1, 2, 4, 3, 5],\n",
       " [3, 2, 1, 6, 1, 2, 4, 1]]"
      ]
     },
     "execution_count": 19,
     "metadata": {},
     "output_type": "execute_result"
    }
   ],
   "source": [
    "position"
   ]
  },
  {
   "cell_type": "code",
   "execution_count": 21,
   "id": "37ac88ff-6cb8-444a-9f77-86b4c2f17722",
   "metadata": {},
   "outputs": [],
   "source": [
    "import numpy.random as npr\n",
    "def selectOne(fit):\n",
    "    max = sum([c for c in fit])\n",
    "    selection_probs = [c/max for c in fit]\n",
    "    return fit.index(fit[npr.choice(len(fit), p=selection_probs)])"
   ]
  },
  {
   "cell_type": "code",
   "execution_count": 25,
   "id": "2decd6e3-0718-4573-bb23-6cfa630f594d",
   "metadata": {},
   "outputs": [],
   "source": [
    "dfit = arr.copy()\n",
    "dp   = position.copy()\n",
    "index = selectOne(dfit)\n",
    "\n",
    "c1 = dp[index]\n",
    "f1 = dfit[index]\n",
    "dp.remove(c1)\n",
    "dfit.remove(f1)"
   ]
  },
  {
   "cell_type": "code",
   "execution_count": 26,
   "id": "4d582477-f3b9-48a8-aeff-2accef3b2b38",
   "metadata": {},
   "outputs": [],
   "source": [
    "dfit = arr.copy()\n",
    "dp   = position.copy()\n",
    "index = selectOne(dfit)\n",
    "\n",
    "c2 = dp[index]\n",
    "f2 = dfit[index]\n",
    "dp.remove(c2)\n",
    "dfit.remove(f2)"
   ]
  },
  {
   "cell_type": "code",
   "execution_count": 27,
   "id": "66722cce-3e82-4660-9c1d-9df4f029a70f",
   "metadata": {},
   "outputs": [
    {
     "data": {
      "text/plain": [
       "[7, 5, 0, 4, 3, 3, 3, 5]"
      ]
     },
     "execution_count": 27,
     "metadata": {},
     "output_type": "execute_result"
    }
   ],
   "source": [
    "c1"
   ]
  },
  {
   "cell_type": "code",
   "execution_count": 28,
   "id": "98c487b8-96fc-4c55-a4b5-6814c99d6acf",
   "metadata": {},
   "outputs": [
    {
     "data": {
      "text/plain": [
       "10"
      ]
     },
     "execution_count": 28,
     "metadata": {},
     "output_type": "execute_result"
    }
   ],
   "source": [
    "f1"
   ]
  },
  {
   "cell_type": "code",
   "execution_count": 29,
   "id": "16cd92f1-6ce5-4c1a-9573-12c657eb67b9",
   "metadata": {},
   "outputs": [
    {
     "data": {
      "text/plain": [
       "[3, 6, 5, 6, 5, 1, 5, 3]"
      ]
     },
     "execution_count": 29,
     "metadata": {},
     "output_type": "execute_result"
    }
   ],
   "source": [
    "c2"
   ]
  },
  {
   "cell_type": "code",
   "execution_count": 30,
   "id": "65464cf4-d4fd-45ce-b858-a929471d2bf1",
   "metadata": {},
   "outputs": [
    {
     "data": {
      "text/plain": [
       "11"
      ]
     },
     "execution_count": 30,
     "metadata": {},
     "output_type": "execute_result"
    }
   ],
   "source": [
    "f2"
   ]
  },
  {
   "cell_type": "code",
   "execution_count": 48,
   "id": "5af551d8-572a-4ca0-a7f6-ab2254bace2a",
   "metadata": {},
   "outputs": [
    {
     "data": {
      "text/plain": [
       "2"
      ]
     },
     "execution_count": 48,
     "metadata": {},
     "output_type": "execute_result"
    }
   ],
   "source": [
    "index_rand = random.randint(0,8)\n",
    "index_rand"
   ]
  },
  {
   "cell_type": "code",
   "execution_count": 49,
   "id": "e5a88471-6481-4c01-9087-0171301e8daa",
   "metadata": {},
   "outputs": [],
   "source": [
    "l1= c1[0:index_rand]\n",
    "l2= c2[0:index_rand]\n",
    "\n",
    "r1= c1[index_rand:]\n",
    "r2= c2[index_rand:]"
   ]
  },
  {
   "cell_type": "code",
   "execution_count": 50,
   "id": "3b2d6187-8c79-4d82-98cc-2ece5ccfd169",
   "metadata": {},
   "outputs": [
    {
     "data": {
      "text/plain": [
       "[7, 5]"
      ]
     },
     "execution_count": 50,
     "metadata": {},
     "output_type": "execute_result"
    }
   ],
   "source": [
    "l1"
   ]
  },
  {
   "cell_type": "code",
   "execution_count": 51,
   "id": "bee11613-1c58-4a93-b078-29a1a635e1dc",
   "metadata": {},
   "outputs": [
    {
     "data": {
      "text/plain": [
       "[0, 4, 3, 3, 3, 5]"
      ]
     },
     "execution_count": 51,
     "metadata": {},
     "output_type": "execute_result"
    }
   ],
   "source": [
    "r1"
   ]
  },
  {
   "cell_type": "code",
   "execution_count": 52,
   "id": "15c4bdfc-6ee6-46f6-888b-0cf527a8d9b8",
   "metadata": {},
   "outputs": [
    {
     "data": {
      "text/plain": [
       "[3, 6]"
      ]
     },
     "execution_count": 52,
     "metadata": {},
     "output_type": "execute_result"
    }
   ],
   "source": [
    "l2"
   ]
  },
  {
   "cell_type": "code",
   "execution_count": 53,
   "id": "a794c162-d9c6-4c3e-baa1-abc09f3e714f",
   "metadata": {},
   "outputs": [
    {
     "data": {
      "text/plain": [
       "[5, 6, 5, 1, 5, 3]"
      ]
     },
     "execution_count": 53,
     "metadata": {},
     "output_type": "execute_result"
    }
   ],
   "source": [
    "r2"
   ]
  },
  {
   "cell_type": "code",
   "execution_count": 54,
   "id": "52101490-83e8-43e4-aed1-b86c08c89384",
   "metadata": {},
   "outputs": [
    {
     "data": {
      "text/plain": [
       "[7, 5, 5, 6, 5, 1, 5, 3]"
      ]
     },
     "execution_count": 54,
     "metadata": {},
     "output_type": "execute_result"
    }
   ],
   "source": [
    "o1 = l1 + r2\n",
    "o1"
   ]
  },
  {
   "cell_type": "code",
   "execution_count": 47,
   "id": "a84134f4-ae27-44f7-bf60-5601e5a1132b",
   "metadata": {},
   "outputs": [
    {
     "data": {
      "text/plain": [
       "[7, 5, 0, 4, 3, 1, 5, 3]"
      ]
     },
     "execution_count": 47,
     "metadata": {},
     "output_type": "execute_result"
    }
   ],
   "source": [
    "o2 = l2 + r1\n",
    "o1"
   ]
  },
  {
   "cell_type": "code",
   "execution_count": 62,
   "id": "7f9936ed-c1e0-48a9-8e0a-5327a8dec44c",
   "metadata": {},
   "outputs": [
    {
     "data": {
      "text/plain": [
       "3"
      ]
     },
     "execution_count": 62,
     "metadata": {},
     "output_type": "execute_result"
    }
   ],
   "source": [
    "# threashold for replacement\n",
    "rand_init = random.randint(1,10)\n",
    "# 40%\n",
    "rand_init"
   ]
  },
  {
   "cell_type": "code",
   "execution_count": 64,
   "id": "165ba6e0-1851-4055-8da8-a3fce3a6c22b",
   "metadata": {},
   "outputs": [
    {
     "name": "stdout",
     "output_type": "stream",
     "text": [
      "[7, 5, 5, 6, 5, 9, 3, 3]\n",
      "[3, 6, 5, 6, 5, 9, 3, 5]\n"
     ]
    }
   ],
   "source": [
    "if rand_init <= 4:\n",
    "    # random index to replace\n",
    "    rand_index =random.randint(0,8)\n",
    "    # replace with this replace number\n",
    "    rand_num = random.randint(0,10)\n",
    "    o1[rand_index] = rand_num\n",
    "    o2[rand_index] = rand_num\n",
    "    print(o1)\n",
    "    print(o2)"
   ]
  }
 ],
 "metadata": {
  "kernelspec": {
   "display_name": "Python 3",
   "language": "python",
   "name": "python3"
  },
  "language_info": {
   "codemirror_mode": {
    "name": "ipython",
    "version": 3
   },
   "file_extension": ".py",
   "mimetype": "text/x-python",
   "name": "python",
   "nbconvert_exporter": "python",
   "pygments_lexer": "ipython3",
   "version": "3.8.8"
  }
 },
 "nbformat": 4,
 "nbformat_minor": 5
}
